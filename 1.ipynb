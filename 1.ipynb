{
 "cells": [
  {
   "cell_type": "markdown",
   "metadata": {},
   "source": [
    "# Day 1\n",
    "## Part 1\n",
    "\n",
    "Oh no! One elf is hungy, who does he ask for snacks?"
   ]
  },
  {
   "cell_type": "markdown",
   "metadata": {},
   "source": [
    "1. Import food stash data"
   ]
  },
  {
   "cell_type": "code",
   "execution_count": 1,
   "metadata": {},
   "outputs": [],
   "source": [
    "yummy_yummy_in_your_tummy = open('data/1.txt', 'r')\n",
    "snacks = yummy_yummy_in_your_tummy.readlines()"
   ]
  },
  {
   "cell_type": "markdown",
   "metadata": {},
   "source": [
    "2. Calculate how much calories each elf is carrying and store it in a dict"
   ]
  },
  {
   "cell_type": "code",
   "execution_count": 2,
   "metadata": {},
   "outputs": [],
   "source": [
    "elfs = {}\n",
    "elf_number = 0\n",
    "total_carried_calories = 0\n",
    "\n",
    "for snack in snacks:\n",
    "    if (snack == \"\\n\"):\n",
    "        elfs[elf_number] = total_carried_calories\n",
    "        total_carried_calories = 0\n",
    "        elf_number += 1\n",
    "    else:\n",
    "        total_carried_calories += int(snack)"
   ]
  },
  {
   "cell_type": "markdown",
   "metadata": {},
   "source": [
    "3. Who is the lucky elf to carry all these calorie dense snacks?"
   ]
  },
  {
   "cell_type": "code",
   "execution_count": 3,
   "metadata": {},
   "outputs": [
    {
     "data": {
      "text/plain": [
       "69883"
      ]
     },
     "execution_count": 3,
     "metadata": {},
     "output_type": "execute_result"
    }
   ],
   "source": [
    "lucky_elf = max(elfs.values())\n",
    "lucky_elf"
   ]
  },
  {
   "cell_type": "markdown",
   "metadata": {},
   "source": [
    "## Part 2\n",
    "Ho ho, what if this lucky elf runs out? \n",
    "\n",
    "4. Find the top 3 lucky elfs and their sum of calories"
   ]
  },
  {
   "cell_type": "code",
   "execution_count": 4,
   "metadata": {},
   "outputs": [
    {
     "data": {
      "text/plain": [
       "207576"
      ]
     },
     "execution_count": 4,
     "metadata": {},
     "output_type": "execute_result"
    }
   ],
   "source": [
    "# most calories\n",
    "first_elf_calories = max(elfs.values())\n",
    "first_elf = max(elfs, key=elfs.get)\n",
    "elfs.pop(int(first_elf))\n",
    "\n",
    "# second most calories\n",
    "second_elf_calories = max(elfs.values())\n",
    "second_elf = max(elfs, key=elfs.get)\n",
    "elfs.pop(int(second_elf))\n",
    "\n",
    "# third most calories\n",
    "third_elf_calories = max(elfs.values())\n",
    "third_elf = max(elfs, key=elfs.get)\n",
    "\n",
    "# calorie total\n",
    "total = first_elf_calories + second_elf_calories + third_elf_calories\n",
    "total"
   ]
  }
 ],
 "metadata": {
  "kernelspec": {
   "display_name": "Python 3.10.5 64-bit",
   "language": "python",
   "name": "python3"
  },
  "language_info": {
   "codemirror_mode": {
    "name": "ipython",
    "version": 3
   },
   "file_extension": ".py",
   "mimetype": "text/x-python",
   "name": "python",
   "nbconvert_exporter": "python",
   "pygments_lexer": "ipython3",
   "version": "3.10.5"
  },
  "orig_nbformat": 4,
  "vscode": {
   "interpreter": {
    "hash": "369f2c481f4da34e4445cda3fffd2e751bd1c4d706f27375911949ba6bb62e1c"
   }
  }
 },
 "nbformat": 4,
 "nbformat_minor": 2
}
