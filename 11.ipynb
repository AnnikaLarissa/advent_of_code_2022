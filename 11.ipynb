{
 "cells": [
  {
   "attachments": {},
   "cell_type": "markdown",
   "metadata": {},
   "source": [
    "# Day 11\n",
    "## Part 1\n",
    "Don't let the monkeys steal your stuff!\n",
    "1. Define monkey type"
   ]
  },
  {
   "cell_type": "code",
   "execution_count": 1,
   "metadata": {},
   "outputs": [],
   "source": [
    "# Define Monkey:\n",
    "# id:               the number (integer) of the monkey\n",
    "# holding_items:    the values of the items the monkey is holding (integer array)\n",
    "# operation_type:   either '*' or '+' that represent what happens to your worry level\n",
    "# operation_number: the amount (integer) by which the worry level is multiplied or added\n",
    "# test_numer:       the number (integer) the monkey performs modulo on, to test where to throw the item to\n",
    "# is_true:          the monkey id the monkey will throw the item to, when the test is true\n",
    "# is_false:         the monkey id the monkey will throw the item to, when the test is false\n",
    "# \n",
    "# functions:\n",
    "# inspect():                    the monkey inpects the item and multiplies/adds to the worry level, then divides by 3 and rounds down\n",
    "#                               increase the amount of inspected items and return the worry level\n",
    "# test(monkeys, worry_level):   tests the item against its modulo value and throws the item to the next monkey accordingly\n",
    "#                               remove the item from the monkeys stash\n",
    "class Monkey:\n",
    "    def __init__(self, id, holding_items, operation_type, operation_number, test_number, is_true, is_false):\n",
    "        self.id = id\n",
    "        self.holding_items = holding_items\n",
    "        self.operation_type = operation_type\n",
    "        self.operation_number = operation_number\n",
    "        self.test_number = test_number\n",
    "        self.is_true = is_true\n",
    "        self.is_false = is_false\n",
    "        self.inspected = 0\n",
    "\n",
    "    def inspect(self):\n",
    "        if self.operation_type == '*':\n",
    "            worry_level = (self.holding_items[0] * self.operation_number)//3\n",
    "            self.inspected += 1\n",
    "            return worry_level\n",
    "        elif self.operation_type == '+':\n",
    "            worry_level = (self.holding_items[0] + self.operation_number)//3\n",
    "            self.inspected += 1\n",
    "            return worry_level\n",
    "        else:\n",
    "            worry_level = (self.holding_items[0]**self.operation_number)//3\n",
    "            self.inspected += 1\n",
    "            return worry_level\n",
    "\n",
    "\n",
    "    def test(self, monkeys, worry_level):\n",
    "        if worry_level % self.test_number == 0:\n",
    "            monkeys[self.is_true].holding_items.append(worry_level)\n",
    "            self.holding_items.pop(0)\n",
    "        else:\n",
    "            monkeys[self.is_false].holding_items.append(worry_level)\n",
    "            self.holding_items.pop(0)"
   ]
  },
  {
   "attachments": {},
   "cell_type": "markdown",
   "metadata": {},
   "source": [
    "2. Import data"
   ]
  },
  {
   "cell_type": "code",
   "execution_count": 2,
   "metadata": {},
   "outputs": [],
   "source": [
    "oops_there_goes_my_stuff = open('data/11.txt', 'r')\n",
    "lines = oops_there_goes_my_stuff.readlines()"
   ]
  },
  {
   "attachments": {},
   "cell_type": "markdown",
   "metadata": {},
   "source": [
    "3. Create monkeys from input"
   ]
  },
  {
   "cell_type": "code",
   "execution_count": 3,
   "metadata": {},
   "outputs": [],
   "source": [
    "# initialize empty monkey array\n",
    "monkeys = []\n",
    "\n",
    "for i in range(0, 50, 7):\n",
    "    monkey_id = int(lines[i].split(' ')[1].replace(':\\n', ''))\n",
    "    \n",
    "    # starting items\n",
    "    starting_items = lines[i+1].replace('  Starting items: ', '')\n",
    "    starting_items = starting_items.replace('\\n', '')\n",
    "    starting_items = starting_items.split(', ')\n",
    "    starting_items = list(map(int, starting_items))\n",
    "    \n",
    "    # operation type\n",
    "    if '+' in lines[i+2]:\n",
    "        operation_type = '+'\n",
    "    else:\n",
    "        operation_type = '*'\n",
    "\n",
    "    # operation number\n",
    "    operation_number = lines[i+2].split(operation_type)[1]\n",
    "    if operation_number == ' old\\n':\n",
    "        operation_type = '**'\n",
    "        operation_number = 2\n",
    "    else:\n",
    "        operation_number = int(operation_number)\n",
    "\n",
    "    test_number = int(lines[i+3].replace('  Test: divisible by ', ''))\n",
    "    is_true = int(lines[i+4].replace('    If true: throw to monkey ', ''))\n",
    "    is_false = int(lines[i+5].replace('    If false: throw to monkey ', ''))\n",
    "\n",
    "    # create monkey and add to monkey array\n",
    "    monkeys.append(Monkey(monkey_id, starting_items, operation_type, operation_number, test_number, is_true, is_false))"
   ]
  },
  {
   "attachments": {},
   "cell_type": "markdown",
   "metadata": {},
   "source": [
    "4. Let the monkeys play 20 rounds"
   ]
  },
  {
   "cell_type": "code",
   "execution_count": 4,
   "metadata": {},
   "outputs": [],
   "source": [
    "for round in range(20):\n",
    "    for turn in range(len(monkeys)):\n",
    "        monkey = monkeys[turn]\n",
    "        for item in range(len(monkey.holding_items)):\n",
    "            worry_level = monkey.inspect()\n",
    "            monkey.test(monkeys, worry_level)"
   ]
  },
  {
   "attachments": {},
   "cell_type": "markdown",
   "metadata": {},
   "source": [
    "5. Determine the most active monkeys"
   ]
  },
  {
   "cell_type": "code",
   "execution_count": 5,
   "metadata": {},
   "outputs": [
    {
     "name": "stdout",
     "output_type": "stream",
     "text": [
      "Monkey  0  inspected  166\n",
      "Monkey  1  inspected  271\n",
      "Monkey  2  inspected  108\n",
      "Monkey  3  inspected  114\n",
      "Monkey  4  inspected  94\n",
      "Monkey  5  inspected  244\n",
      "Monkey  6  inspected  161\n",
      "Monkey  7  inspected  171\n"
     ]
    }
   ],
   "source": [
    "for monkey in monkeys:\n",
    "    print('Monkey ', monkey.id, ' inspected ', monkey.inspected)"
   ]
  },
  {
   "cell_type": "code",
   "execution_count": 6,
   "metadata": {},
   "outputs": [
    {
     "name": "stdout",
     "output_type": "stream",
     "text": [
      "66124\n"
     ]
    }
   ],
   "source": [
    "print(271*244)"
   ]
  }
 ],
 "metadata": {
  "kernelspec": {
   "display_name": "Python 3",
   "language": "python",
   "name": "python3"
  },
  "language_info": {
   "codemirror_mode": {
    "name": "ipython",
    "version": 3
   },
   "file_extension": ".py",
   "mimetype": "text/x-python",
   "name": "python",
   "nbconvert_exporter": "python",
   "pygments_lexer": "ipython3",
   "version": "3.10.5"
  },
  "orig_nbformat": 4,
  "vscode": {
   "interpreter": {
    "hash": "369f2c481f4da34e4445cda3fffd2e751bd1c4d706f27375911949ba6bb62e1c"
   }
  }
 },
 "nbformat": 4,
 "nbformat_minor": 2
}
