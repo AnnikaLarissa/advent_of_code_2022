{
 "cells": [
  {
   "cell_type": "markdown",
   "metadata": {},
   "source": [
    "# Day 2\n",
    "\n",
    "## Part 1\n",
    "\n",
    "Lets win this game of rock paper scissors!\n",
    "\n",
    "1. import strategy guide"
   ]
  },
  {
   "cell_type": "code",
   "execution_count": 1,
   "metadata": {},
   "outputs": [],
   "source": [
    "lets_win = open('data/2.txt', 'r')\n",
    "strategies = lets_win.readlines()"
   ]
  },
  {
   "cell_type": "markdown",
   "metadata": {},
   "source": [
    "2. calculate scores and sum up\n",
    "\n",
    "- my_move: 1 for rock (X), 2 for paper (Y), and 3 for scissors (Z)\n",
    "- opponents_move: rock(A), paper(B), scissors (C)\n",
    "\n",
    "- 0 if you lost, 3 if the round was a draw, and 6 if you won"
   ]
  },
  {
   "cell_type": "code",
   "execution_count": 2,
   "metadata": {},
   "outputs": [
    {
     "data": {
      "text/plain": [
       "11150"
      ]
     },
     "execution_count": 2,
     "metadata": {},
     "output_type": "execute_result"
    }
   ],
   "source": [
    "total_score = 0\n",
    "\n",
    "for strategy in strategies:\n",
    "    actions = strategy.split(\" \")\n",
    "    opponent_move = actions[0] \n",
    "    my_move = actions[1].replace('\\n', '')\n",
    "    \n",
    "    # I play rock\n",
    "    if my_move == 'X':\n",
    "        total_score += 1\n",
    "        # draw\n",
    "        if opponent_move == 'A':\n",
    "            total_score += 3\n",
    "        # lose\n",
    "        elif opponent_move == 'B':\n",
    "            total_score += 0\n",
    "        # win\n",
    "        elif opponent_move == 'C':\n",
    "            total_score += 6\n",
    "    # I play paper\n",
    "    elif my_move == 'Y':\n",
    "        total_score += 2\n",
    "        # win\n",
    "        if opponent_move == 'A':\n",
    "            total_score += 6\n",
    "        # draw\n",
    "        elif opponent_move == 'B':\n",
    "            total_score += 3\n",
    "        # lose\n",
    "        elif opponent_move == 'C':\n",
    "            total_score += 0\n",
    "    # I play scissors\n",
    "    elif my_move == 'Z':\n",
    "        total_score += 3\n",
    "        # lose\n",
    "        if opponent_move == 'A':\n",
    "            total_score += 0\n",
    "        # win\n",
    "        elif opponent_move == 'B':\n",
    "            total_score += 6\n",
    "        # draw\n",
    "        elif opponent_move == 'C':\n",
    "            total_score += 3\n",
    "\n",
    "total_score    "
   ]
  },
  {
   "cell_type": "markdown",
   "metadata": {},
   "source": [
    "## Part 2\n",
    "\n",
    "Ho ho, we used the wrong encryption!\n",
    "- X means you need to lose \n",
    "- Y means you need to end the round in a draw\n",
    "- Z means you need to win"
   ]
  },
  {
   "cell_type": "code",
   "execution_count": 3,
   "metadata": {},
   "outputs": [
    {
     "data": {
      "text/plain": [
       "8295"
      ]
     },
     "execution_count": 3,
     "metadata": {},
     "output_type": "execute_result"
    }
   ],
   "source": [
    "total_score = 0\n",
    "\n",
    "for strategy in strategies:\n",
    "    actions = strategy.split(\" \")\n",
    "    opponent_move = actions[0] \n",
    "    outcome = actions[1].replace('\\n', '')\n",
    "    \n",
    "    # Lose\n",
    "    if outcome == 'X':\n",
    "        total_score += 0\n",
    "        # I play scissors\n",
    "        if opponent_move == 'A':\n",
    "            total_score += 3\n",
    "        # I play rock\n",
    "        elif opponent_move == 'B':\n",
    "            total_score += 1\n",
    "        # I play paper\n",
    "        elif opponent_move == 'C':\n",
    "            total_score += 2\n",
    "    # Draw\n",
    "    elif outcome == 'Y':\n",
    "        total_score += 3\n",
    "        # I play rock\n",
    "        if opponent_move == 'A':\n",
    "            total_score += 1\n",
    "        # I play paper\n",
    "        elif opponent_move == 'B':\n",
    "            total_score += 2\n",
    "        # I play scissors\n",
    "        elif opponent_move == 'C':\n",
    "            total_score += 3\n",
    "    # Win\n",
    "    elif outcome == 'Z':\n",
    "        total_score += 6\n",
    "        # I play paper\n",
    "        if opponent_move == 'A':\n",
    "            total_score += 2\n",
    "        # I play scissors\n",
    "        elif opponent_move == 'B':\n",
    "            total_score += 3\n",
    "        # I play rock\n",
    "        elif opponent_move == 'C':\n",
    "            total_score += 1\n",
    "\n",
    "total_score    "
   ]
  }
 ],
 "metadata": {
  "kernelspec": {
   "display_name": "Python 3.10.5 64-bit",
   "language": "python",
   "name": "python3"
  },
  "language_info": {
   "codemirror_mode": {
    "name": "ipython",
    "version": 3
   },
   "file_extension": ".py",
   "mimetype": "text/x-python",
   "name": "python",
   "nbconvert_exporter": "python",
   "pygments_lexer": "ipython3",
   "version": "3.10.5"
  },
  "orig_nbformat": 4,
  "vscode": {
   "interpreter": {
    "hash": "369f2c481f4da34e4445cda3fffd2e751bd1c4d706f27375911949ba6bb62e1c"
   }
  }
 },
 "nbformat": 4,
 "nbformat_minor": 2
}
