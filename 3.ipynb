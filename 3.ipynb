{
 "cells": [
  {
   "cell_type": "markdown",
   "metadata": {},
   "source": [
    "# Day 3\n",
    "\n",
    "## Part 1\n",
    "\n",
    "1. Import rucksack content"
   ]
  },
  {
   "cell_type": "code",
   "execution_count": 1,
   "metadata": {},
   "outputs": [],
   "source": [
    "all_rucksacks = open('data/3.txt', 'r')\n",
    "rucksacks = all_rucksacks.readlines()"
   ]
  },
  {
   "cell_type": "markdown",
   "metadata": {},
   "source": [
    "2. Split the rucksack contents over the two compartments\n",
    "3. Find common items\n",
    "4. Add priority of this common item"
   ]
  },
  {
   "cell_type": "code",
   "execution_count": 2,
   "metadata": {},
   "outputs": [
    {
     "data": {
      "text/plain": [
       "7581"
      ]
     },
     "execution_count": 2,
     "metadata": {},
     "output_type": "execute_result"
    }
   ],
   "source": [
    "total_priorities = 0\n",
    "\n",
    "for rucksack in rucksacks:\n",
    "    # split over 2 compartments\n",
    "    compartment_1 = rucksack[:len(rucksack)//2]\n",
    "    compartment_2 = rucksack[len(rucksack)//2:]\n",
    "        \n",
    "    # find common item\n",
    "    common_item = ''.join(set(compartment_1).intersection(compartment_2))\n",
    "    \n",
    "    # add priority using ordinals\n",
    "    if common_item.islower():\n",
    "        # lower case letters are 97-122 in the ASCII table\n",
    "        total_priorities += ord(common_item)-96\n",
    "    else:\n",
    "        # upper case letters are 65-90 in the ASCII table\n",
    "        # add 26 to get the prioriy right\n",
    "        total_priorities += ord(common_item)-64+26\n",
    "\n",
    "total_priorities"
   ]
  },
  {
   "cell_type": "markdown",
   "metadata": {},
   "source": [
    "## Part 2\n",
    "\n",
    "What does each group of 3 elves have in common?"
   ]
  },
  {
   "cell_type": "code",
   "execution_count": 3,
   "metadata": {},
   "outputs": [
    {
     "data": {
      "text/plain": [
       "2525"
      ]
     },
     "execution_count": 3,
     "metadata": {},
     "output_type": "execute_result"
    }
   ],
   "source": [
    "total_priorities = 0\n",
    "group_of_elves = []\n",
    "\n",
    "for rucksack in rucksacks:\n",
    "    # remove \"\\n\" from the end of string\n",
    "    rucksack_contents = rucksack.replace('\\n', '')\n",
    "\n",
    "    # append up to 3 elves in a group\n",
    "    group_of_elves.append(rucksack_contents)\n",
    "\n",
    "    # when there are 3 elves:\n",
    "    # 1. find common items\n",
    "    # 2. add their priorities\n",
    "    # 3. reset the group variable\n",
    "    if len(group_of_elves) == 3:\n",
    "        # common items\n",
    "        common_item = ''.join(set(group_of_elves[0]).intersection(group_of_elves[1]).intersection(group_of_elves[2]))\n",
    "\n",
    "        # add priority using ordinals\n",
    "        if common_item.islower():\n",
    "            # lower case letters are 97-122 in the ASCII table\n",
    "            total_priorities += ord(common_item)-96\n",
    "        else:\n",
    "            # upper case letters are 65-90 in the ASCII table\n",
    "            # add 26 to get the prioriy right\n",
    "            total_priorities += ord(common_item)-64+26\n",
    "        \n",
    "        # reset group\n",
    "        group_of_elves = []\n",
    "\n",
    "total_priorities"
   ]
  }
 ],
 "metadata": {
  "kernelspec": {
   "display_name": "Python 3.10.5 64-bit",
   "language": "python",
   "name": "python3"
  },
  "language_info": {
   "codemirror_mode": {
    "name": "ipython",
    "version": 3
   },
   "file_extension": ".py",
   "mimetype": "text/x-python",
   "name": "python",
   "nbconvert_exporter": "python",
   "pygments_lexer": "ipython3",
   "version": "3.10.5"
  },
  "orig_nbformat": 4,
  "vscode": {
   "interpreter": {
    "hash": "369f2c481f4da34e4445cda3fffd2e751bd1c4d706f27375911949ba6bb62e1c"
   }
  }
 },
 "nbformat": 4,
 "nbformat_minor": 2
}
