{
 "cells": [
  {
   "cell_type": "markdown",
   "metadata": {},
   "source": [
    "# Day 4\n",
    "## Part 1\n",
    "\n",
    "Noelves wants to do double work, right?\n",
    "\n",
    "1. Import the unavoidable cleaning schedule"
   ]
  },
  {
   "cell_type": "code",
   "execution_count": 1,
   "metadata": {},
   "outputs": [],
   "source": [
    "job_schedule = open('data/4.txt', 'r')\n",
    "job_pairs = job_schedule.readlines()"
   ]
  },
  {
   "cell_type": "markdown",
   "metadata": {},
   "source": [
    "2. Define boolean function that checks whether jobs of elf 2 are fully contained in elf 1's jobs"
   ]
  },
  {
   "cell_type": "code",
   "execution_count": 2,
   "metadata": {},
   "outputs": [],
   "source": [
    "def is_fully_contained (first_job_elf_1, last_job_elf_1, first_job_elf_2, last_job_elf_2):\n",
    "    if (first_job_elf_1 <= first_job_elf_2) and (last_job_elf_1 >= last_job_elf_2):\n",
    "        return True\n",
    "    else:\n",
    "        return False"
   ]
  },
  {
   "cell_type": "markdown",
   "metadata": {},
   "source": [
    "3. Split the tasks of elf 1 and elf 2\n",
    "4. Check if one of them is fully contained"
   ]
  },
  {
   "cell_type": "code",
   "execution_count": 3,
   "metadata": {},
   "outputs": [
    {
     "data": {
      "text/plain": [
       "576"
      ]
     },
     "execution_count": 3,
     "metadata": {},
     "output_type": "execute_result"
    }
   ],
   "source": [
    "total_overlaps = 0\n",
    "\n",
    "for job_pair in job_pairs:\n",
    "    # split jobs\n",
    "    jobs = job_pair.split(',')\n",
    "    jobs_elf_1 = jobs[0]\n",
    "    jobs_elf_2 = jobs[1].replace('\\n', '')\n",
    "\n",
    "    # obtain first and last jobs\n",
    "    first_and_last_elf_1 = jobs_elf_1.split('-')\n",
    "    first_job_elf_1 = int(first_and_last_elf_1[0])\n",
    "    last_job_elf_1 = int(first_and_last_elf_1[1])\n",
    "\n",
    "    first_and_last_elf_2 = jobs_elf_2.split('-')\n",
    "    first_job_elf_2 = int(first_and_last_elf_2[0])\n",
    "    last_job_elf_2 = int(first_and_last_elf_2[1])\n",
    "\n",
    "    # check if contained\n",
    "    if is_fully_contained(first_job_elf_1, last_job_elf_1, first_job_elf_2, last_job_elf_2):\n",
    "        total_overlaps += 1\n",
    "    elif is_fully_contained(first_job_elf_2, last_job_elf_2, first_job_elf_1, last_job_elf_1):\n",
    "        total_overlaps += 1\n",
    "\n",
    "total_overlaps"
   ]
  },
  {
   "cell_type": "markdown",
   "metadata": {},
   "source": [
    "Aren't we still doing double work?\n",
    "\n",
    "5. Define boolean function for partly overlapping (elf 1 has earlier jobs)"
   ]
  },
  {
   "cell_type": "code",
   "execution_count": 4,
   "metadata": {},
   "outputs": [],
   "source": [
    "def is_partly_contained (first_job_elf_1, last_job_elf_1, first_job_elf_2, last_job_elf_2):\n",
    "    if (last_job_elf_1 < first_job_elf_2) or (last_job_elf_2 < first_job_elf_1):\n",
    "        return False\n",
    "    else:\n",
    "        return True"
   ]
  },
  {
   "cell_type": "code",
   "execution_count": 5,
   "metadata": {},
   "outputs": [
    {
     "data": {
      "text/plain": [
       "905"
      ]
     },
     "execution_count": 5,
     "metadata": {},
     "output_type": "execute_result"
    }
   ],
   "source": [
    "total_overlaps = 0\n",
    "\n",
    "for job_pair in job_pairs:\n",
    "    # split jobs\n",
    "    jobs = job_pair.split(',')\n",
    "    jobs_elf_1 = jobs[0]\n",
    "    jobs_elf_2 = jobs[1].replace('\\n', '')\n",
    "\n",
    "    # obtain first and last jobs\n",
    "    first_and_last_elf_1 = jobs_elf_1.split('-')\n",
    "    first_job_elf_1 = int(first_and_last_elf_1[0])\n",
    "    last_job_elf_1 = int(first_and_last_elf_1[1])\n",
    "\n",
    "    first_and_last_elf_2 = jobs_elf_2.split('-')\n",
    "    first_job_elf_2 = int(first_and_last_elf_2[0])\n",
    "    last_job_elf_2 = int(first_and_last_elf_2[1])\n",
    "\n",
    "    # check if contained\n",
    "    if is_partly_contained(first_job_elf_1, last_job_elf_1, first_job_elf_2, last_job_elf_2):\n",
    "        total_overlaps += 1\n",
    "\n",
    "total_overlaps"
   ]
  }
 ],
 "metadata": {
  "kernelspec": {
   "display_name": "Python 3.10.5 64-bit",
   "language": "python",
   "name": "python3"
  },
  "language_info": {
   "codemirror_mode": {
    "name": "ipython",
    "version": 3
   },
   "file_extension": ".py",
   "mimetype": "text/x-python",
   "name": "python",
   "nbconvert_exporter": "python",
   "pygments_lexer": "ipython3",
   "version": "3.10.5"
  },
  "orig_nbformat": 4,
  "vscode": {
   "interpreter": {
    "hash": "369f2c481f4da34e4445cda3fffd2e751bd1c4d706f27375911949ba6bb62e1c"
   }
  }
 },
 "nbformat": 4,
 "nbformat_minor": 2
}
