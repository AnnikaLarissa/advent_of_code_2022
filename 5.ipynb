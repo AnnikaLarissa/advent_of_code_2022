{
 "cells": [
  {
   "cell_type": "markdown",
   "metadata": {},
   "source": [
    "# Day 5\n",
    "## Part 1\n",
    "\n",
    "Stacks! (But not that one)\n",
    "\n",
    "1. Initialize stacks and  import moving instrustions"
   ]
  },
  {
   "cell_type": "code",
   "execution_count": 1,
   "metadata": {},
   "outputs": [],
   "source": [
    "stack_1 = ['S', 'M', 'R', 'N', 'W', 'J', 'V', 'T']\n",
    "stack_2 = ['B', 'W', 'D', 'J', 'Q', 'P', 'C', 'V']\n",
    "stack_3 = ['B', 'J', 'F', 'H', 'D', 'R', 'P']\n",
    "stack_4 = ['F', 'R', 'P', 'B', 'M', 'N', 'D']\n",
    "stack_5 = ['H', 'V', 'R', 'P', 'T', 'B']\n",
    "stack_6 = ['C', 'B', 'P', 'T']\n",
    "stack_7 = ['B', 'J', 'R', 'P', 'L']\n",
    "stack_8 = ['N', 'C', 'S', 'L', 'T', 'Z', 'B', 'W']\n",
    "stack_9 = ['L', 'S', 'G']\n",
    "\n",
    "movement_instructions = open('data/5.txt', 'r')\n",
    "instructions = movement_instructions.readlines()"
   ]
  },
  {
   "cell_type": "markdown",
   "metadata": {},
   "source": [
    "2. Extract movement information\n",
    "3. Push (append) and pop stacks accordingly"
   ]
  },
  {
   "cell_type": "code",
   "execution_count": 2,
   "metadata": {},
   "outputs": [],
   "source": [
    "stacks = [stack_1.copy(), stack_2.copy(), stack_3.copy(), stack_4.copy(), \n",
    "        stack_5.copy(), stack_6.copy(), stack_7.copy(), stack_8.copy(), stack_9.copy()]\n",
    "\n",
    "for instruction in instructions:\n",
    "    # extract information\n",
    "    instruction_split = instruction.split(' ')\n",
    "    quantity = int(instruction_split[1])\n",
    "    move_from = int(instruction_split[3])\n",
    "    move_to = int(instruction_split[5].replace('\\n', ''))\n",
    "\n",
    "    for i in range(quantity):\n",
    "        # pop\n",
    "        moved_item = stacks[move_from-1].pop()\n",
    "        # push\n",
    "        stacks[move_to-1].append(moved_item)"
   ]
  },
  {
   "cell_type": "markdown",
   "metadata": {},
   "source": [
    "4. Obtain top-most elements"
   ]
  },
  {
   "cell_type": "code",
   "execution_count": 3,
   "metadata": {},
   "outputs": [
    {
     "data": {
      "text/plain": [
       "'LJSVLTWQM'"
      ]
     },
     "execution_count": 3,
     "metadata": {},
     "output_type": "execute_result"
    }
   ],
   "source": [
    "top_elements = ''\n",
    "\n",
    "for stack in stacks:\n",
    "    top_elements += stack[-1]\n",
    "\n",
    "top_elements"
   ]
  },
  {
   "cell_type": "markdown",
   "metadata": {},
   "source": [
    "## Part 2\n",
    "\n",
    "No longer LIFO stacks :( Move the whole quantity at once, without changing the order"
   ]
  },
  {
   "cell_type": "code",
   "execution_count": 4,
   "metadata": {},
   "outputs": [],
   "source": [
    "stacks = [stack_1.copy(), stack_2.copy(), stack_3.copy(), stack_4.copy(), \n",
    "        stack_5.copy(), stack_6.copy(), stack_7.copy(), stack_8.copy(), stack_9.copy()]\n",
    "\n",
    "for instruction in instructions:\n",
    "    # extract information\n",
    "    instruction_split = instruction.split(' ')\n",
    "    quantity = int(instruction_split[1])\n",
    "    move_from = int(instruction_split[3])\n",
    "    move_to = int(instruction_split[5].replace('\\n', ''))\n",
    "\n",
    "    # pop\n",
    "    moved_items = stacks[move_from-1][-quantity:]\n",
    "    stacks[move_from-1] = stacks[move_from-1][:-quantity]\n",
    "    # push\n",
    "    stacks[move_to-1].extend(moved_items)"
   ]
  },
  {
   "cell_type": "markdown",
   "metadata": {},
   "source": [
    "4. Obtain top-most elements"
   ]
  },
  {
   "cell_type": "code",
   "execution_count": 5,
   "metadata": {},
   "outputs": [
    {
     "data": {
      "text/plain": [
       "'BRQWDBBJM'"
      ]
     },
     "execution_count": 5,
     "metadata": {},
     "output_type": "execute_result"
    }
   ],
   "source": [
    "top_elements = ''\n",
    "\n",
    "for stack in stacks:\n",
    "    top_elements += stack[-1]\n",
    "\n",
    "top_elements"
   ]
  }
 ],
 "metadata": {
  "kernelspec": {
   "display_name": "Python 3.10.5 64-bit",
   "language": "python",
   "name": "python3"
  },
  "language_info": {
   "codemirror_mode": {
    "name": "ipython",
    "version": 3
   },
   "file_extension": ".py",
   "mimetype": "text/x-python",
   "name": "python",
   "nbconvert_exporter": "python",
   "pygments_lexer": "ipython3",
   "version": "3.10.5"
  },
  "orig_nbformat": 4,
  "vscode": {
   "interpreter": {
    "hash": "369f2c481f4da34e4445cda3fffd2e751bd1c4d706f27375911949ba6bb62e1c"
   }
  }
 },
 "nbformat": 4,
 "nbformat_minor": 2
}
