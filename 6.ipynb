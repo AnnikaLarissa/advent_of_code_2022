{
 "cells": [
  {
   "cell_type": "markdown",
   "metadata": {},
   "source": [
    "# Day 6\n",
    "## Part 1\n",
    "\n",
    "Let's fix the encoding, because you know, communication is key :)\n",
    "1. Import data"
   ]
  },
  {
   "cell_type": "code",
   "execution_count": 1,
   "metadata": {},
   "outputs": [],
   "source": [
    "datastream_buffer = open('data/6.txt', 'r').readlines()[0]"
   ]
  },
  {
   "cell_type": "markdown",
   "metadata": {},
   "source": [
    "2. Check all groups of 4 adjacent characters for having 4 distinct characters (until the first one is found)\n",
    "3. Return the index of the last character in the group"
   ]
  },
  {
   "cell_type": "code",
   "execution_count": 2,
   "metadata": {},
   "outputs": [
    {
     "name": "stdout",
     "output_type": "stream",
     "text": [
      "1766\n"
     ]
    }
   ],
   "source": [
    "for i in range(len(datastream_buffer)-3):\n",
    "    group_of_4 = datastream_buffer[i:i+4]\n",
    "    unique_chars = \"\".join(set(group_of_4))\n",
    "    # if all characters are unique print and return\n",
    "    if len(unique_chars) == 4:\n",
    "        # character at index i+3\n",
    "        # convert to the x'th charcter -> +1\n",
    "        print(i+4)\n",
    "        break"
   ]
  },
  {
   "cell_type": "markdown",
   "metadata": {},
   "source": [
    "## Part 2\n",
    "Not 4 anymore, but 14. Easy!"
   ]
  },
  {
   "cell_type": "code",
   "execution_count": 3,
   "metadata": {},
   "outputs": [
    {
     "name": "stdout",
     "output_type": "stream",
     "text": [
      "2383\n"
     ]
    }
   ],
   "source": [
    "for i in range(len(datastream_buffer)-13):\n",
    "    group_of_14 = datastream_buffer[i:i+14]\n",
    "    unique_chars = \"\".join(set(group_of_14))\n",
    "    # if all characters are unique print and return\n",
    "    if len(unique_chars) == 14:\n",
    "        # character at index i+13\n",
    "        # convert to the x'th charcter -> +1\n",
    "        print(i+14)\n",
    "        break"
   ]
  }
 ],
 "metadata": {
  "kernelspec": {
   "display_name": "Python 3.10.5 64-bit",
   "language": "python",
   "name": "python3"
  },
  "language_info": {
   "codemirror_mode": {
    "name": "ipython",
    "version": 3
   },
   "file_extension": ".py",
   "mimetype": "text/x-python",
   "name": "python",
   "nbconvert_exporter": "python",
   "pygments_lexer": "ipython3",
   "version": "3.10.5"
  },
  "orig_nbformat": 4,
  "vscode": {
   "interpreter": {
    "hash": "369f2c481f4da34e4445cda3fffd2e751bd1c4d706f27375911949ba6bb62e1c"
   }
  }
 },
 "nbformat": 4,
 "nbformat_minor": 2
}
