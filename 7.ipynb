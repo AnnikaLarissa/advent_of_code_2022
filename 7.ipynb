{
 "cells": [
  {
   "cell_type": "markdown",
   "metadata": {},
   "source": [
    "# Day 7\n",
    "## Part 1\n",
    "\n",
    "Storage is every computer scientist's problem :)\n",
    "\n",
    "Let's find out the size of each directory through non-binary trees\n",
    "1. Define a tree for directories"
   ]
  },
  {
   "cell_type": "code",
   "execution_count": 1,
   "metadata": {},
   "outputs": [],
   "source": [
    "# file objects:\n",
    "# name:     string for the file name\n",
    "# size:     interger for the file size \n",
    "class File:\n",
    "    def __init__(self, name, size):\n",
    "        self.name = name\n",
    "        self.size = size\n",
    "\n",
    "# directory tree object:\n",
    "# name:             name of the node (name of the folder)\n",
    "# nodes:            dictionary containing its leafs and subtrees\n",
    "# \n",
    "# functions:\n",
    "# add folder:       adds a folder (of type DirectoryTree) to the tree\n",
    "#                   folders don't have a size, but they do have a name\n",
    "# add files:        adds a file (of type File) to the tree like a leaf node\n",
    "#                   files have a name and a size\n",
    "# calculate_size:   calculates the size of the tree (i.e. all the files it contains)\n",
    "#                   recurses through all its subtrees\n",
    "class DirectoryTree:\n",
    "    def __init__(self, name):\n",
    "        self.name = name\n",
    "        self.nodes = {}\n",
    "\n",
    "    def add_folder(self, name):\n",
    "        self.nodes[name] = DirectoryTree(name)\n",
    "\n",
    "    def add_file(self, name, size):\n",
    "        self.nodes[name] = File(name, size)\n",
    "\n",
    "    def calculate_size(self):\n",
    "        total_size = 0\n",
    "        for node in self.nodes.keys():\n",
    "            # add file sizes to the total size\n",
    "            if type(self.nodes[node]) == File:\n",
    "                total_size += self.nodes[node].size\n",
    "            # recurse for non-empty folders\n",
    "            elif type(self.nodes[node]) == DirectoryTree and self.nodes[node].nodes != []: \n",
    "                total_size += self.nodes[node].calculate_size()\n",
    "        return total_size"
   ]
  },
  {
   "cell_type": "code",
   "execution_count": 2,
   "metadata": {},
   "outputs": [
    {
     "name": "stdout",
     "output_type": "stream",
     "text": [
      "23\n"
     ]
    }
   ],
   "source": [
    "dir = DirectoryTree('/')\n",
    "dir.add_folder('subdir')\n",
    "dir.add_folder('subdir2')\n",
    "dir.nodes['subdir2'].add_folder('subsubdir')\n",
    "dir.nodes['subdir2'].nodes['subsubdir'].add_file('file_1', 11)\n",
    "dir.nodes['subdir2'].nodes['subsubdir'].add_file('file_2', 12)\n",
    "print(dir.nodes['subdir2'].calculate_size())"
   ]
  },
  {
   "cell_type": "markdown",
   "metadata": {},
   "source": [
    "2. Import the data"
   ]
  },
  {
   "cell_type": "code",
   "execution_count": 3,
   "metadata": {},
   "outputs": [],
   "source": [
    "raw_cmd_stuff = open('data/7.txt', 'r')\n",
    "lines = raw_cmd_stuff.readlines()"
   ]
  },
  {
   "cell_type": "markdown",
   "metadata": {},
   "source": [
    "3. Iterate through it and build a tree"
   ]
  },
  {
   "cell_type": "code",
   "execution_count": 4,
   "metadata": {},
   "outputs": [],
   "source": [
    "tree = DirectoryTree('/')\n",
    "current_dir = tree\n",
    "parents = []\n",
    "\n",
    "for line in lines:\n",
    "    # $ cd / \n",
    "    # go to outer directory\n",
    "    # reset parents\n",
    "    if line == '$ cd /\\n':\n",
    "        current_dir = tree\n",
    "        parents = []\n",
    "\n",
    "    # $ cd .. \n",
    "    # move 1 directory down by reconstruction current_dir using parents\n",
    "    # remove last parent\n",
    "    elif line == '$ cd ..\\n':\n",
    "        current_dir = tree\n",
    "        parents.pop()\n",
    "        for parent in parents:\n",
    "            current_dir = current_dir.nodes[parent]\n",
    "\n",
    "    # $ cd something\n",
    "    # move 1 directory up to something\n",
    "    # add new parent\n",
    "    elif line.startswith('$ cd'):\n",
    "        new_dir = line.split(' ')[-1].replace('\\n', '')\n",
    "        current_dir = current_dir.nodes[new_dir]\n",
    "        parents.append(new_dir)\n",
    "\n",
    "    # $ ls\n",
    "    # list all the files and folders in the current dir\n",
    "    # (nothing happens here, we simply read in the following lines)\n",
    "    elif line == '$ ls\\n':\n",
    "        pass\n",
    "\n",
    "    # dir something\n",
    "    # add folder something to the current dir\n",
    "    elif line.startswith('dir'):\n",
    "        new_folder = line.split(' ')[-1].replace('\\n', '')\n",
    "        current_dir.add_folder(new_folder)\n",
    "\n",
    "    # number something\n",
    "    # add file with size and name to current dir\n",
    "    else:\n",
    "        size = int(line.split(' ')[0])\n",
    "        name = line.split(' ')[1].replace('\\n', '')\n",
    "        current_dir.add_file(name, size)\n"
   ]
  },
  {
   "cell_type": "markdown",
   "metadata": {},
   "source": [
    "4. Calculate file sizes in all subtrees < 100000"
   ]
  },
  {
   "cell_type": "code",
   "execution_count": 5,
   "metadata": {},
   "outputs": [],
   "source": [
    "# dictories don't allow duplicates, so just store sizes in array\n",
    "sizes_all = []\n",
    "sizes_small = []\n",
    "\n",
    "def calc_subtree (subtree):\n",
    "    for node in subtree.nodes:\n",
    "        if type(subtree.nodes[node]) == DirectoryTree:\n",
    "            size = subtree.nodes[node].calculate_size()\n",
    "            sizes_all.append(size)\n",
    "            if size < 100000:\n",
    "                sizes_small.append(size)\n",
    "            calc_subtree(subtree.nodes[node])\n",
    "\n",
    "calc_subtree(tree)"
   ]
  },
  {
   "cell_type": "markdown",
   "metadata": {},
   "source": [
    "5. Sum the sizes"
   ]
  },
  {
   "cell_type": "code",
   "execution_count": 6,
   "metadata": {},
   "outputs": [
    {
     "data": {
      "text/plain": [
       "1648397"
      ]
     },
     "execution_count": 6,
     "metadata": {},
     "output_type": "execute_result"
    }
   ],
   "source": [
    "sum(sizes_small)"
   ]
  },
  {
   "cell_type": "markdown",
   "metadata": {},
   "source": [
    "## Part 2\n",
    "\n",
    "What folder to remove?\n",
    "\n",
    "1. Calculate how much needs to be removed\n",
    "2. Check all sizes that would be large enough and are as small as possible"
   ]
  },
  {
   "cell_type": "code",
   "execution_count": 7,
   "metadata": {},
   "outputs": [
    {
     "data": {
      "text/plain": [
       "1815525"
      ]
     },
     "execution_count": 7,
     "metadata": {},
     "output_type": "execute_result"
    }
   ],
   "source": [
    "size_all = tree.calculate_size()\n",
    "target_size = 40000000\n",
    "target_remove = size_all - target_size\n",
    "\n",
    "best_size = size_all\n",
    "\n",
    "for size in sizes_all:\n",
    "    # larger than needed\n",
    "    if size > target_remove:\n",
    "        # as small as possible\n",
    "        if size < best_size:\n",
    "            best_size = size\n",
    "\n",
    "best_size"
   ]
  }
 ],
 "metadata": {
  "kernelspec": {
   "display_name": "Python 3.10.5 64-bit",
   "language": "python",
   "name": "python3"
  },
  "language_info": {
   "codemirror_mode": {
    "name": "ipython",
    "version": 3
   },
   "file_extension": ".py",
   "mimetype": "text/x-python",
   "name": "python",
   "nbconvert_exporter": "python",
   "pygments_lexer": "ipython3",
   "version": "3.10.5"
  },
  "orig_nbformat": 4,
  "vscode": {
   "interpreter": {
    "hash": "369f2c481f4da34e4445cda3fffd2e751bd1c4d706f27375911949ba6bb62e1c"
   }
  }
 },
 "nbformat": 4,
 "nbformat_minor": 2
}
