{
 "cells": [
  {
   "cell_type": "markdown",
   "metadata": {},
   "source": [
    "# Day 8\n",
    "## Part 1\n",
    "\n",
    "Did someone say tree house?! <3\n",
    "\n",
    "1. Import data and store in 2D array as integers"
   ]
  },
  {
   "cell_type": "code",
   "execution_count": 16,
   "metadata": {},
   "outputs": [],
   "source": [
    "tree_grid_data = open('data/8.txt', 'r')\n",
    "tree_lines = tree_grid_data.readlines()\n",
    "\n",
    "tree_grid = []\n",
    "for tree_line in tree_lines:\n",
    "    seperate_trees = ([* tree_line.replace('\\n', '')])\n",
    "    tree_grid.append([eval(i) for i in seperate_trees])"
   ]
  },
  {
   "cell_type": "markdown",
   "metadata": {},
   "source": [
    "2. Define when a tree is visible:\n",
    "- when its on the edge of the grid\n",
    "- when its the tallest tree compared to its top/bottom/left/right"
   ]
  },
  {
   "cell_type": "code",
   "execution_count": 36,
   "metadata": {},
   "outputs": [],
   "source": [
    "number_of_cols = len(tree_grid)\n",
    "number_of_rows = len(tree_grid[0])\n",
    "\n",
    "# initialize everything as non-visible (2D array with 0s)\n",
    "visible_trees = np.zeros((number_of_cols, number_of_rows))\n",
    "\n",
    "# tallest tree from the left\n",
    "for row in range(number_of_cols):\n",
    "    highest_tree = -1\n",
    "    for col in range(number_of_rows):\n",
    "        # devine the tree\n",
    "        tree = tree_grid[row][col]\n",
    "        # update the currently highest seen tree\n",
    "        if tree > highest_tree:\n",
    "            highest_tree = tree\n",
    "            visible_trees[row][col] = 1\n",
    "\n",
    "# tallest tree from the right\n",
    "for row in range(number_of_cols):\n",
    "    highest_tree = -1\n",
    "    for col in range(number_of_rows-1, 0, -1):\n",
    "        # devine the tree\n",
    "        tree = tree_grid[row][col]\n",
    "        # update the currently highest seen tree\n",
    "        if tree > highest_tree:\n",
    "            highest_tree = tree\n",
    "            visible_trees[row][col] = 1\n",
    "\n",
    "# tallest tree from the top\n",
    "for col in range(number_of_cols):\n",
    "    highest_tree = -1\n",
    "    for row in range(number_of_rows):\n",
    "        # devine the tree\n",
    "        tree = tree_grid[row][col]\n",
    "        # update the currently highest seen tree\n",
    "        if tree > highest_tree:\n",
    "            highest_tree = tree\n",
    "            visible_trees[row][col] = 1\n",
    "\n",
    "# tallest tree from the bottom\n",
    "for col in range(number_of_cols):\n",
    "    highest_tree = -1\n",
    "    for row in range(number_of_rows-1, 0, -1):\n",
    "        # devine the tree\n",
    "        tree = tree_grid[row][col]\n",
    "        # update the currently highest seen tree\n",
    "        if tree > highest_tree:\n",
    "            highest_tree = tree\n",
    "            visible_trees[row][col] = 1"
   ]
  },
  {
   "cell_type": "markdown",
   "metadata": {},
   "source": [
    "3. Count the amount of visible trees"
   ]
  },
  {
   "cell_type": "code",
   "execution_count": 38,
   "metadata": {},
   "outputs": [
    {
     "data": {
      "text/plain": [
       "1809.0"
      ]
     },
     "execution_count": 38,
     "metadata": {},
     "output_type": "execute_result"
    }
   ],
   "source": [
    "sum(sum(visible_trees))"
   ]
  }
 ],
 "metadata": {
  "kernelspec": {
   "display_name": "Python 3.9.12 ('base')",
   "language": "python",
   "name": "python3"
  },
  "language_info": {
   "codemirror_mode": {
    "name": "ipython",
    "version": 3
   },
   "file_extension": ".py",
   "mimetype": "text/x-python",
   "name": "python",
   "nbconvert_exporter": "python",
   "pygments_lexer": "ipython3",
   "version": "3.9.12"
  },
  "orig_nbformat": 4,
  "vscode": {
   "interpreter": {
    "hash": "4476010b776233d468c3518ff18be3b14f9a5a396f0f21819cda90a234c3199b"
   }
  }
 },
 "nbformat": 4,
 "nbformat_minor": 2
}
