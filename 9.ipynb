{
 "cells": [
  {
   "attachments": {},
   "cell_type": "markdown",
   "metadata": {},
   "source": [
    "# Day 9\n",
    "## Part 1\n",
    "The tail follows the head. Given the head movements, where does the tail go?\n",
    "\n",
    "1. Define coordinate type"
   ]
  },
  {
   "cell_type": "code",
   "execution_count": 1,
   "metadata": {},
   "outputs": [],
   "source": [
    "class Coordinate:\n",
    "    def __init__(self, x, y):\n",
    "        self.x = x\n",
    "        self.y = y"
   ]
  },
  {
   "attachments": {},
   "cell_type": "markdown",
   "metadata": {},
   "source": [
    "2. Import movement data for the head"
   ]
  },
  {
   "cell_type": "code",
   "execution_count": 2,
   "metadata": {},
   "outputs": [],
   "source": [
    "movement_h_data = open('data/9.txt', 'r')\n",
    "movement_h = movement_h_data.readlines()"
   ]
  },
  {
   "attachments": {},
   "cell_type": "markdown",
   "metadata": {},
   "source": [
    "3. Simulate head movement"
   ]
  },
  {
   "cell_type": "code",
   "execution_count": 3,
   "metadata": {},
   "outputs": [],
   "source": [
    "def get_h_coordinates (movement_h):\n",
    "    # array of coordinates\n",
    "    # initialize the start of the head on 0,0\n",
    "    h_coordinates = [Coordinate(0, 0)]\n",
    "\n",
    "    for move in movement_h:\n",
    "        move_direction = move.split(' ')[0]\n",
    "        move_amount_steps = int(move.split(' ')[1].replace('\\n', ''))\n",
    "\n",
    "        # append new coordinate to array depending on the direction\n",
    "        if move_direction == 'L':\n",
    "            for i in range(move_amount_steps):\n",
    "                old_position = h_coordinates[-1]\n",
    "                new_coordinate = Coordinate(old_position.x-1, old_position.y)\n",
    "                h_coordinates.append(new_coordinate)\n",
    "        elif move_direction == 'R':\n",
    "            for i in range(move_amount_steps):\n",
    "                old_position = h_coordinates[-1]\n",
    "                new_coordinate = Coordinate(old_position.x+1, old_position.y)\n",
    "                h_coordinates.append(new_coordinate)\n",
    "        elif move_direction == 'D':\n",
    "            for i in range(move_amount_steps):\n",
    "                old_position = h_coordinates[-1]\n",
    "                new_coordinate = Coordinate(old_position.x, old_position.y-1)\n",
    "                h_coordinates.append(new_coordinate)\n",
    "        elif move_direction == 'U':\n",
    "            for i in range(move_amount_steps):\n",
    "                old_position = h_coordinates[-1]\n",
    "                new_coordinate = Coordinate(old_position.x, old_position.y+1)\n",
    "                h_coordinates.append(new_coordinate)\n",
    "    \n",
    "    return h_coordinates"
   ]
  },
  {
   "attachments": {},
   "cell_type": "markdown",
   "metadata": {},
   "source": [
    "4. Simulate tail movements\n",
    "\n",
    "To do this, we distinguish 3 cases:\n",
    "- The distance between h and t is <= sqrt(2): nothing happens, as the t is still in an adjacent spot\n",
    "- The distance between h and t is 2: t has to move in a straigt line to h, as h is 2 spots removed from t in one of the axis\n",
    "- The distance between h and t is > 2: t has to move diagonally to h, as h is 1 spot removed on 1 axis, and two spots removed on the other axis"
   ]
  },
  {
   "cell_type": "code",
   "execution_count": 4,
   "metadata": {},
   "outputs": [],
   "source": [
    "# function that makes t move towards h\n",
    "# h:    the position of h as Coordinate\n",
    "# t:    the position of t as Coordinate\n",
    "def move_straight (h, t):\n",
    "    t_new_x = (h.x + t.x)/2\n",
    "    t_new_y = (h.y + t.y)/2\n",
    "    t_new = Coordinate(t_new_x, t_new_y)\n",
    "    return t_new"
   ]
  },
  {
   "cell_type": "code",
   "execution_count": 5,
   "metadata": {},
   "outputs": [],
   "source": [
    "def move_diagonal (h, t):\n",
    "    x_distance = (h.x - t.x)**2\n",
    "    # if 1 spot removed on the x-axis: \n",
    "    # 1. move to the same x-coordinate as h\n",
    "    # 2. average the y-coordinates\n",
    "    if x_distance == 1:\n",
    "        t_new_x = h.x\n",
    "        t_new_y = (h.y + t.y)/2\n",
    "        t_new = Coordinate(t_new_x, t_new_y)\n",
    "        return t_new\n",
    "    # if 2 spots removed on the x-axis, then its 1 spot removed on the y-axis\n",
    "    # 1. move to the same y-coordinate as h\n",
    "    # 2. average the x-coordinates\n",
    "    else:\n",
    "        t_new_y = h.y\n",
    "        t_new_x = (h.x + t.x)/2\n",
    "        t_new = Coordinate(t_new_x, t_new_y)\n",
    "        return t_new\n"
   ]
  },
  {
   "cell_type": "code",
   "execution_count": 6,
   "metadata": {},
   "outputs": [],
   "source": [
    "def get_t_coordinates (h_coordinates):\n",
    "    t_coordinates = [Coordinate(0, 0)]\n",
    "\n",
    "    for h in h_coordinates:\n",
    "        old_t = t_coordinates[-1]\n",
    "        # eucledian distance between head and tail\n",
    "        distance_h_t = ((old_t.x - h.x)**2 + (old_t.y - h.y)**2)**0.5\n",
    "\n",
    "        # move in a straight line when distance is 2\n",
    "        if distance_h_t == 2:\n",
    "            new_t = move_straight(h, old_t)\n",
    "            t_coordinates.append(new_t)\n",
    "        # move diagonal when distance > 2\n",
    "        if distance_h_t > 2:\n",
    "            new_t = move_diagonal(h, old_t)\n",
    "            t_coordinates.append(new_t)\n",
    "\n",
    "    return t_coordinates"
   ]
  },
  {
   "attachments": {},
   "cell_type": "markdown",
   "metadata": {},
   "source": [
    "5. Run and count unique occurances in t coordinates"
   ]
  },
  {
   "cell_type": "code",
   "execution_count": 7,
   "metadata": {},
   "outputs": [
    {
     "name": "stdout",
     "output_type": "stream",
     "text": [
      "6450\n"
     ]
    }
   ],
   "source": [
    "h_coordinates = get_h_coordinates(movement_h)\n",
    "t_coordinates = get_t_coordinates(h_coordinates)\n",
    "\n",
    "unique_t_coordinates = set()\n",
    "\n",
    "for t in t_coordinates:\n",
    "    string = '(' + str(t.x) + ',' + str(t.y) + ')'\n",
    "    unique_t_coordinates.add(string)\n",
    "\n",
    "print(len(unique_t_coordinates))\n"
   ]
  }
 ],
 "metadata": {
  "kernelspec": {
   "display_name": "Python 3",
   "language": "python",
   "name": "python3"
  },
  "language_info": {
   "codemirror_mode": {
    "name": "ipython",
    "version": 3
   },
   "file_extension": ".py",
   "mimetype": "text/x-python",
   "name": "python",
   "nbconvert_exporter": "python",
   "pygments_lexer": "ipython3",
   "version": "3.10.5"
  },
  "orig_nbformat": 4,
  "vscode": {
   "interpreter": {
    "hash": "369f2c481f4da34e4445cda3fffd2e751bd1c4d706f27375911949ba6bb62e1c"
   }
  }
 },
 "nbformat": 4,
 "nbformat_minor": 2
}
